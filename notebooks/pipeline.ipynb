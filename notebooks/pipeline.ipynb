{
 "cells": [
  {
   "cell_type": "code",
   "execution_count": 3,
   "id": "a64b801d-55de-4329-a12c-93561b38ab2c",
   "metadata": {},
   "outputs": [
    {
     "name": "stdout",
     "output_type": "stream",
     "text": [
      "Collecting pyarrow\n",
      "  Using cached pyarrow-21.0.0-cp311-cp311-macosx_12_0_arm64.whl.metadata (3.3 kB)\n",
      "Using cached pyarrow-21.0.0-cp311-cp311-macosx_12_0_arm64.whl (31.2 MB)\n",
      "Installing collected packages: pyarrow\n",
      "Successfully installed pyarrow-21.0.0\n"
     ]
    }
   ],
   "source": [
    "!pip install pyarrow"
   ]
  },
  {
   "cell_type": "code",
   "execution_count": 1,
   "id": "bbd58eb1-3359-4079-b0a8-3f137f8b666d",
   "metadata": {},
   "outputs": [
    {
     "data": {
      "text/html": [
       "<div>\n",
       "<style scoped>\n",
       "    .dataframe tbody tr th:only-of-type {\n",
       "        vertical-align: middle;\n",
       "    }\n",
       "\n",
       "    .dataframe tbody tr th {\n",
       "        vertical-align: top;\n",
       "    }\n",
       "\n",
       "    .dataframe thead th {\n",
       "        text-align: right;\n",
       "    }\n",
       "</style>\n",
       "<table border=\"1\" class=\"dataframe\">\n",
       "  <thead>\n",
       "    <tr style=\"text-align: right;\">\n",
       "      <th></th>\n",
       "      <th>a</th>\n",
       "    </tr>\n",
       "  </thead>\n",
       "  <tbody>\n",
       "    <tr>\n",
       "      <th>0</th>\n",
       "      <td>1</td>\n",
       "    </tr>\n",
       "    <tr>\n",
       "      <th>1</th>\n",
       "      <td>2</td>\n",
       "    </tr>\n",
       "    <tr>\n",
       "      <th>2</th>\n",
       "      <td>3</td>\n",
       "    </tr>\n",
       "  </tbody>\n",
       "</table>\n",
       "</div>"
      ],
      "text/plain": [
       "   a\n",
       "0  1\n",
       "1  2\n",
       "2  3"
      ]
     },
     "execution_count": 1,
     "metadata": {},
     "output_type": "execute_result"
    }
   ],
   "source": [
    "import pandas as pd\n",
    "\n",
    "df = pd.DataFrame({\"a\": [1, 2, 3]})\n",
    "df.to_parquet(\"test.parquet\", index=False)\n",
    "pd.read_parquet(\"test.parquet\")"
   ]
  },
  {
   "cell_type": "code",
   "execution_count": 1,
   "id": "5ee8190b-fb28-442f-8fb0-f3aaa79b26c5",
   "metadata": {},
   "outputs": [
    {
     "name": "stdout",
     "output_type": "stream",
     "text": [
      "Downloading dataset...\n",
      "Dataset URL: https://www.kaggle.com/datasets/lovishbansal123/sales-of-a-supermarket\n",
      "License(s): apache-2.0\n",
      "Downloading sales-of-a-supermarket.zip to data/raw\n",
      "\n",
      "Downloaded and extracted: sales-of-a-supermarket.zip\n",
      "SQLite DB created: supermarket.db\n",
      "Parquet files written to: /Users/faridun/66degrees-supermarket-pipeline/notebooks/data/processed\n"
     ]
    },
    {
     "name": "stderr",
     "output_type": "stream",
     "text": [
      "100%|██████████| 35.9k/35.9k [00:00<00:00, 65.1MB/s]\n"
     ]
    }
   ],
   "source": [
    "from pathlib import Path\n",
    "import os\n",
    "import zipfile\n",
    "import sqlite3\n",
    "import pandas as pd\n",
    "\n",
    "# PATHS\n",
    "RAW_DIR = Path(\"data/raw\")\n",
    "PROCESSED = Path(\"data/processed\")\n",
    "DB_FILE = \"supermarket.db\"\n",
    "\n",
    "# 1. DOWNLOAD DATA FROM KAGGLE\n",
    "def download_from_kaggle():\n",
    "    \"\"\"\n",
    "    Downloads the dataset from Kaggle using the API and extracts it.\n",
    "    Requires kaggle.json to be configured in ~/.kaggle\n",
    "    \"\"\"\n",
    "    RAW_DIR.mkdir(parents=True, exist_ok=True)\n",
    "    print(\"Downloading dataset...\")\n",
    "    os.system(\"kaggle datasets download -d lovishbansal123/sales-of-a-supermarket -p data/raw\")\n",
    "\n",
    "    zip_path = next(RAW_DIR.glob(\"*.zip\"), None)\n",
    "    if not zip_path:\n",
    "        raise FileNotFoundError(\"ZIP not found. Download may have failed.\")\n",
    "    \n",
    "    with zipfile.ZipFile(zip_path) as zf:\n",
    "        zf.extractall(RAW_DIR)\n",
    "    print(f\"Downloaded and extracted: {zip_path.name}\")\n",
    "\n",
    "# 2. TRANSFORM TO STAR SCHEMA\n",
    "def build_dimensions(df: pd.DataFrame):\n",
    "    # Rename relevant columns up front\n",
    "    df = df.rename(columns={\n",
    "        \"Product line\": \"product_line\",\n",
    "        \"Unit price\": \"unit_price\",\n",
    "        \"Branch\": \"branch\",\n",
    "        \"City\": \"city\"\n",
    "    })\n",
    "\n",
    "    # Product dimension\n",
    "    dim_product = (\n",
    "        df[[\"product_line\", \"unit_price\"]]\n",
    "        .drop_duplicates()\n",
    "        .reset_index(drop=True)\n",
    "    )\n",
    "    dim_product[\"product_id\"] = dim_product.index + 1\n",
    "\n",
    "    # Store dimension\n",
    "    dim_store = (\n",
    "        df[[\"branch\", \"city\"]]\n",
    "        .drop_duplicates()\n",
    "        .reset_index(drop=True)\n",
    "    )\n",
    "    dim_store[\"store_id\"] = dim_store.index + 1\n",
    "\n",
    "    return dim_product, dim_store, df  # also return renamed df for use in fact\n",
    "\n",
    "def build_fact(df, dim_product, dim_store):\n",
    "    fact = (\n",
    "        df.merge(dim_product, on=[\"product_line\", \"unit_price\"])\n",
    "          .merge(dim_store, on=[\"branch\", \"city\"])\n",
    "          .assign(sale_id=lambda d: d.index + 1)\n",
    "          .rename(columns={\n",
    "              \"Date\": \"date\",\n",
    "              \"Customer type\": \"customer_type\",\n",
    "              \"Gender\": \"gender\",\n",
    "              \"Total\": \"total\",\n",
    "              \"Quantity\": \"quantity\",\n",
    "              \"Payment\": \"payment\"\n",
    "          })\n",
    "    )\n",
    "\n",
    "    fact_cols = [\"sale_id\", \"date\", \"customer_type\", \"gender\",\n",
    "                 \"product_id\", \"store_id\", \"total\", \"quantity\", \"payment\"]\n",
    "    return fact[fact_cols]\n",
    "\n",
    "\n",
    "# 3. LOAD TO SQLITE + SAVE TO PARQUET\n",
    "def write_to_sqlite_and_parquet(dim_product, dim_store, fact_sales):\n",
    "    # Save to SQLite\n",
    "    conn = sqlite3.connect(DB_FILE)\n",
    "    dim_product.to_sql(\"dim_product\", conn, index=False, if_exists=\"replace\")\n",
    "    dim_store.to_sql(\"dim_store\", conn, index=False, if_exists=\"replace\")\n",
    "    fact_sales.to_sql(\"fact_sales\", conn, index=False, if_exists=\"replace\")\n",
    "    conn.close()\n",
    "    print(f\"SQLite DB created: {DB_FILE}\")\n",
    "\n",
    "    # Save to Parquet\n",
    "    PROCESSED.mkdir(parents=True, exist_ok=True)\n",
    "    dim_product.to_parquet(PROCESSED / \"dim_product.parquet\", index=False)\n",
    "    dim_store.to_parquet(PROCESSED / \"dim_store.parquet\", index=False)\n",
    "    fact_sales.to_parquet(PROCESSED / \"fact_sales.parquet\", index=False)\n",
    "    print(f\"Parquet files written to: {PROCESSED.resolve()}\")\n",
    "\n",
    "# 4. HELPER FUNCTION TO QUERY DB\n",
    "\n",
    "def run_query(q):\n",
    "    \"\"\"\n",
    "    Executes a SQL query on the SQLite DB and returns a DataFrame.\n",
    "    \"\"\"\n",
    "    with sqlite3.connect(DB_FILE) as conn:\n",
    "        return pd.read_sql(q, conn)\n",
    "\n",
    "\n",
    "def show_tables():\n",
    "    \"\"\"\n",
    "    calls the run_query() function to return a list of all tables and views in the database.\n",
    "    \"\"\"\n",
    "    q = \"SELECT name, type FROM sqlite_master WHERE type IN ('table', 'view')\"\n",
    "    return run_query(q)\n",
    "\n",
    "\n",
    "# 5. EXECUTE PIPELINE\n",
    "\n",
    "if __name__ == \"__main__\":\n",
    "    download_from_kaggle()\n",
    "\n",
    "    # Load raw CSV (extracted filename may vary slightly)\n",
    "    csv_file = next(RAW_DIR.glob(\"*.csv\"))\n",
    "    df = pd.read_csv(csv_file)\n",
    "\n",
    "    # Transform\n",
    "    dim_product, dim_store, df_renamed = build_dimensions(df)\n",
    "    fact_sales = build_fact(df_renamed, dim_product, dim_store)\n",
    "\n",
    "    # Load\n",
    "    write_to_sqlite_and_parquet(dim_product, dim_store, fact_sales)"
   ]
  },
  {
   "cell_type": "markdown",
   "id": "442ecf7e-0463-48af-8e4a-6c65a2f6753b",
   "metadata": {},
   "source": [
    "## Show tables in DB"
   ]
  },
  {
   "cell_type": "code",
   "execution_count": 2,
   "id": "da377de8-0a95-4d93-a2ea-c97f0ba80bff",
   "metadata": {},
   "outputs": [
    {
     "data": {
      "text/html": [
       "<div>\n",
       "<style scoped>\n",
       "    .dataframe tbody tr th:only-of-type {\n",
       "        vertical-align: middle;\n",
       "    }\n",
       "\n",
       "    .dataframe tbody tr th {\n",
       "        vertical-align: top;\n",
       "    }\n",
       "\n",
       "    .dataframe thead th {\n",
       "        text-align: right;\n",
       "    }\n",
       "</style>\n",
       "<table border=\"1\" class=\"dataframe\">\n",
       "  <thead>\n",
       "    <tr style=\"text-align: right;\">\n",
       "      <th></th>\n",
       "      <th>name</th>\n",
       "      <th>type</th>\n",
       "    </tr>\n",
       "  </thead>\n",
       "  <tbody>\n",
       "    <tr>\n",
       "      <th>0</th>\n",
       "      <td>dim_product</td>\n",
       "      <td>table</td>\n",
       "    </tr>\n",
       "    <tr>\n",
       "      <th>1</th>\n",
       "      <td>dim_store</td>\n",
       "      <td>table</td>\n",
       "    </tr>\n",
       "    <tr>\n",
       "      <th>2</th>\n",
       "      <td>fact_sales</td>\n",
       "      <td>table</td>\n",
       "    </tr>\n",
       "  </tbody>\n",
       "</table>\n",
       "</div>"
      ],
      "text/plain": [
       "          name   type\n",
       "0  dim_product  table\n",
       "1    dim_store  table\n",
       "2   fact_sales  table"
      ]
     },
     "execution_count": 2,
     "metadata": {},
     "output_type": "execute_result"
    }
   ],
   "source": [
    "show_tables()"
   ]
  },
  {
   "cell_type": "markdown",
   "id": "6a6ad712-8e27-4bb4-a2b5-583f93ea06db",
   "metadata": {},
   "source": [
    "## Table Count"
   ]
  },
  {
   "cell_type": "code",
   "execution_count": 3,
   "id": "798185b5-c678-4c59-a631-39be84d2a3ea",
   "metadata": {},
   "outputs": [
    {
     "data": {
      "text/html": [
       "<div>\n",
       "<style scoped>\n",
       "    .dataframe tbody tr th:only-of-type {\n",
       "        vertical-align: middle;\n",
       "    }\n",
       "\n",
       "    .dataframe tbody tr th {\n",
       "        vertical-align: top;\n",
       "    }\n",
       "\n",
       "    .dataframe thead th {\n",
       "        text-align: right;\n",
       "    }\n",
       "</style>\n",
       "<table border=\"1\" class=\"dataframe\">\n",
       "  <thead>\n",
       "    <tr style=\"text-align: right;\">\n",
       "      <th></th>\n",
       "      <th>table_name</th>\n",
       "      <th>row_count</th>\n",
       "    </tr>\n",
       "  </thead>\n",
       "  <tbody>\n",
       "    <tr>\n",
       "      <th>0</th>\n",
       "      <td>dim_product</td>\n",
       "      <td>993</td>\n",
       "    </tr>\n",
       "    <tr>\n",
       "      <th>1</th>\n",
       "      <td>dim_store</td>\n",
       "      <td>3</td>\n",
       "    </tr>\n",
       "    <tr>\n",
       "      <th>2</th>\n",
       "      <td>fact_sales</td>\n",
       "      <td>1000</td>\n",
       "    </tr>\n",
       "  </tbody>\n",
       "</table>\n",
       "</div>"
      ],
      "text/plain": [
       "    table_name  row_count\n",
       "0  dim_product        993\n",
       "1    dim_store          3\n",
       "2   fact_sales       1000"
      ]
     },
     "execution_count": 3,
     "metadata": {},
     "output_type": "execute_result"
    }
   ],
   "source": [
    "q = \"\"\"\n",
    "SELECT 'dim_product' AS table_name, COUNT(*) AS row_count FROM dim_product\n",
    "UNION\n",
    "SELECT 'dim_store', COUNT(*) FROM dim_store\n",
    "UNION\n",
    "SELECT 'fact_sales', COUNT(*) FROM fact_sales;\n",
    "\"\"\"\n",
    "run_query(q)"
   ]
  },
  {
   "cell_type": "code",
   "execution_count": null,
   "id": "2bd1c4cf-ff36-4446-bf62-aa83df7b5e73",
   "metadata": {},
   "outputs": [],
   "source": []
  }
 ],
 "metadata": {
  "kernelspec": {
   "display_name": "Python 3 (ipykernel)",
   "language": "python",
   "name": "python3"
  },
  "language_info": {
   "codemirror_mode": {
    "name": "ipython",
    "version": 3
   },
   "file_extension": ".py",
   "mimetype": "text/x-python",
   "name": "python",
   "nbconvert_exporter": "python",
   "pygments_lexer": "ipython3",
   "version": "3.11.5"
  }
 },
 "nbformat": 4,
 "nbformat_minor": 5
}
